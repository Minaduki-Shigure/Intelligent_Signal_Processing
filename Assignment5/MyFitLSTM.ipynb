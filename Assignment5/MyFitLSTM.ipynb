{
 "cells": [
  {
   "cell_type": "code",
   "execution_count": 1,
   "metadata": {},
   "outputs": [],
   "source": [
    "import numpy as np\n",
    "import pandas as pd\n",
    "import matplotlib.pyplot as plt\n",
    "\n",
    "import torch\n",
    "from torch import nn, optim\n",
    "\n",
    "from torch.autograd import Variable\n",
    "\n",
    "from torch.utils.data import DataLoader\n",
    "from torch.utils.data import TensorDataset"
   ]
  },
  {
   "cell_type": "code",
   "execution_count": 2,
   "metadata": {},
   "outputs": [],
   "source": [
    "def dataloader_lstm(dataset, look_back=3):\n",
    "    dataX, dataY = [], []\n",
    "    for i in range(len(dataset) - look_back):\n",
    "        a = dataset[i:(i + look_back)]\n",
    "        dataX.append(a)\n",
    "        dataY.append(dataset[i + look_back])\n",
    "        # print(dataX)\n",
    "    return np.array(dataX), np.array(dataY)"
   ]
  },
  {
   "cell_type": "code",
   "execution_count": 3,
   "metadata": {},
   "outputs": [],
   "source": [
    "dataset = []\n",
    "x = np.linspace(-2 * np.pi, 2 * np.pi, 400)\n",
    "for i in x:\n",
    "    data = np.sin(i)\n",
    "    dataset.append(data)\n",
    "    \n",
    "dataset = np.array(dataset)\n",
    "dataset = dataset.astype('float32')\n",
    "max_value = np.max(dataset)\n",
    "min_value = np.min(dataset)\n",
    "scalar = max_value - min_value\n",
    "dataset = list(map(lambda x: x / scalar, dataset))"
   ]
  },
  {
   "cell_type": "code",
   "execution_count": 4,
   "metadata": {},
   "outputs": [],
   "source": [
    "data_x, data_y = dataloader_lstm(dataset)\n",
    "\n",
    "data_x = data_x.reshape(-1, 1, 3)\n",
    "data_y = data_y.reshape(-1, 1, 1)"
   ]
  },
  {
   "cell_type": "code",
   "execution_count": 5,
   "metadata": {},
   "outputs": [],
   "source": [
    "dataset = TensorDataset(torch.tensor(data_x, dtype=torch.float), torch.tensor(data_y, dtype=torch.float))\n",
    "dataloader = DataLoader(dataset, batch_size=100, shuffle=True)"
   ]
  },
  {
   "cell_type": "code",
   "execution_count": 6,
   "metadata": {},
   "outputs": [],
   "source": [
    "class MyNet(nn.Module):\n",
    "    def __init__(self, input_size, hidden_size, output_size=1, lstm_layers=2):\n",
    "        super(MyNet, self).__init__()\n",
    "        self.rnn = nn.LSTM(input_size, hidden_size, lstm_layers)\n",
    "        self.out = nn.Linear(hidden_size, output_size)\n",
    "\n",
    "    def forward(self, x): # x:torch.FloatTensor\n",
    "        x, _ = self.rnn(x)\n",
    "        s, b, h = x.shape\n",
    "        x = x.view(s * b, h)\n",
    "        x = self.out(x)\n",
    "        x = x.view(s, b, -1)\n",
    "        return x"
   ]
  },
  {
   "cell_type": "code",
   "execution_count": 7,
   "metadata": {},
   "outputs": [],
   "source": [
    "model = MyNet(input_size=3, hidden_size=10)\n",
    "learning_rate = 0.01\n",
    "\n",
    "criterion = nn.MSELoss()\n",
    "optimizer = torch.optim.Adam(model.parameters(), lr=learning_rate)"
   ]
  },
  {
   "cell_type": "code",
   "execution_count": 8,
   "metadata": {},
   "outputs": [
    {
     "name": "stdout",
     "output_type": "stream",
     "text": [
      "epoch: 100 , loss: 0.00040883017936721444\n",
      "epoch: 200 , loss: 8.245466597145423e-05\n",
      "epoch: 300 , loss: 8.782780241745058e-06\n",
      "epoch: 400 , loss: 1.1682011972879991e-05\n",
      "epoch: 500 , loss: 2.452961780363694e-05\n",
      "epoch: 600 , loss: 2.886939728341531e-05\n",
      "epoch: 700 , loss: 1.4991893294791225e-05\n",
      "epoch: 800 , loss: 8.070876356214285e-05\n",
      "epoch: 900 , loss: 1.851524575613439e-05\n",
      "epoch: 1000 , loss: 1.872250868473202e-05\n"
     ]
    }
   ],
   "source": [
    "epochs = 1000\n",
    "losses = []\n",
    "for i in range(epochs):\n",
    "    for x_batch, y_batch in dataloader:\n",
    "        y_pred = model.forward(x_batch)\n",
    "        loss = criterion(y_pred, y_batch)\n",
    "        optimizer.zero_grad()\n",
    "        loss.backward()\n",
    "        optimizer.step()\n",
    "    if (i + 1) % (epochs / 10) == 0:\n",
    "        print(\"epoch: {0} , loss: {1}\".format(i + 1, loss.item()))"
   ]
  },
  {
   "cell_type": "code",
   "execution_count": 9,
   "metadata": {},
   "outputs": [],
   "source": [
    "def testplot(x, test_x):\n",
    "    test_x = test_x.reshape(-1, 1, 3)\n",
    "    test_X = torch.tensor(test_x, dtype=torch.float)\n",
    "    pred_Y = model.forward(test_X)\n",
    "    pred_y = pred_Y.view(-1).data.numpy()\n",
    "    # plt_x = test_x[:, :, 1]\n",
    "    plt.plot(pred_y, label=\"Predict\")\n",
    "    # plt.plot(plt_x, np.sin(test_x), label=\"Ground Truth\")\n",
    "    plt.xlabel(\"x\")\n",
    "    plt.ylabel(\"sin(x)\")\n",
    "    plt.legend()\n",
    "    # plt.savefig(fname=\"save.png\", figsize=[10,10])\n",
    "    plt.show()"
   ]
  },
  {
   "cell_type": "code",
   "execution_count": 10,
   "metadata": {},
   "outputs": [],
   "source": [
    "testset = []\n",
    "x = np.linspace(-4 * np.pi, 4 * np.pi, 1600)\n",
    "for i in x:\n",
    "    test_data = np.sin(i)\n",
    "    testset.append(test_data)\n",
    "    \n",
    "testset = np.array(testset)\n",
    "testset = testset.astype('float32')\n",
    "max_value = np.max(testset)\n",
    "min_value = np.min(testset)\n",
    "scalar = max_value - min_value\n",
    "testset = list(map(lambda x: x / scalar, testset))"
   ]
  },
  {
   "cell_type": "code",
   "execution_count": 11,
   "metadata": {},
   "outputs": [
    {
     "data": {
      "image/png": "[encoded data removed]",
      "text/plain": [
       "<Figure size 432x288 with 1 Axes>"
      ]
     },
     "metadata": {
      "needs_background": "light"
     },
     "output_type": "display_data"
    }
   ],
   "source": [
    "test_x, _ = dataloader_lstm(testset)\n",
    "testplot(x, test_x)"
   ]
  }
 ],
 "metadata": {
  "kernelspec": {
   "display_name": "Python 3",
   "language": "python",
   "name": "python3"
  },
  "language_info": {
   "codemirror_mode": {
    "name": "ipython",
    "version": 3
   },
   "file_extension": ".py",
   "mimetype": "text/x-python",
   "name": "python",
   "nbconvert_exporter": "python",
   "pygments_lexer": "ipython3",
   "version": "3.7.6"
  }
 },
 "nbformat": 4,
 "nbformat_minor": 4
}
