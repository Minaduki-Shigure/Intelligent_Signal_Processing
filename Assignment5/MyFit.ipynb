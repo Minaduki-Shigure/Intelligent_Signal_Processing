{
 "cells": [
  {
   "cell_type": "code",
   "execution_count": 1,
   "metadata": {},
   "outputs": [],
   "source": [
    "import numpy as np\n",
    "import matplotlib.pyplot as plt\n",
    "from sklearn.metrics import accuracy_score\n",
    "\n",
    "import torch\n",
    "from torch import nn, optim\n",
    "\n",
    "from torch.utils.data import DataLoader\n",
    "from torch.utils.data import TensorDataset"
   ]
  },
  {
   "cell_type": "code",
   "execution_count": 2,
   "metadata": {},
   "outputs": [],
   "source": [
    "x = np.linspace(-2 * np.pi, 2 * np.pi, 400)\n",
    "y = np.sin(x)\n",
    "# plt.plot(x, y, label=\"Ground Truth\")"
   ]
  },
  {
   "cell_type": "code",
   "execution_count": 3,
   "metadata": {},
   "outputs": [],
   "source": [
    "X = np.expand_dims(x, axis=1)\n",
    "Y = y.reshape(400, -1)"
   ]
  },
  {
   "cell_type": "code",
   "execution_count": 4,
   "metadata": {},
   "outputs": [],
   "source": [
    "# 按照网上的说法加了个dataloader，感觉对于这个训练集的大小有点没必要\n",
    "dataset = TensorDataset(torch.tensor(X, dtype=torch.float), torch.tensor(Y, dtype=torch.float))\n",
    "dataloader = DataLoader(dataset, batch_size=100, shuffle=True)"
   ]
  },
  {
   "cell_type": "code",
   "execution_count": 5,
   "metadata": {},
   "outputs": [],
   "source": [
    "class MyNet(nn.Module):\n",
    "    def __init__(self, dim):\n",
    "        super(MyNet, self).__init__()\n",
    "        self.net = nn.Sequential(\n",
    "            nn.Linear(dim, 8 * dim), nn.ReLU(),\n",
    "            nn.Linear(8 * dim, 64 * dim), nn.ReLU(),\n",
    "            nn.Linear(64 * dim, 8 * dim), nn.ReLU(),\n",
    "            nn.Linear(8 * dim, dim)\n",
    "        )\n",
    "\n",
    "    def forward(self, x): # x:torch.FloatTensor\n",
    "        return self.net(x)"
   ]
  },
  {
   "cell_type": "code",
   "execution_count": 6,
   "metadata": {},
   "outputs": [],
   "source": [
    "model = MyNet(1)\n",
    "learning_rate = 0.01\n",
    "\n",
    "criterion = nn.MSELoss()\n",
    "optimizer = torch.optim.Adam(model.parameters(), lr=learning_rate)"
   ]
  },
  {
   "cell_type": "code",
   "execution_count": 7,
   "metadata": {},
   "outputs": [
    {
     "name": "stdout",
     "output_type": "stream",
     "text": [
      "epoch: 1000 , loss: 0.0010538621572777629\n",
      "epoch: 2000 , loss: 0.0003947708464693278\n",
      "epoch: 3000 , loss: 2.269869582960382e-05\n",
      "epoch: 4000 , loss: 3.657445631688461e-05\n",
      "epoch: 5000 , loss: 4.3923737393924966e-05\n",
      "epoch: 6000 , loss: 2.5224697310477495e-05\n",
      "epoch: 7000 , loss: 0.00011131730570923537\n",
      "epoch: 8000 , loss: 0.00013819448940921575\n",
      "epoch: 9000 , loss: 7.503054803237319e-05\n",
      "epoch: 10000 , loss: 8.321450877701864e-05\n"
     ]
    }
   ],
   "source": [
    "epochs = 10000\n",
    "losses = []\n",
    "for i in range(epochs):\n",
    "    for x_batch, y_batch in dataloader:\n",
    "        y_pred = model.forward(x_batch)\n",
    "        loss = criterion(y_pred, y_batch)\n",
    "        optimizer.zero_grad()\n",
    "        loss.backward()\n",
    "        optimizer.step()\n",
    "    if (i + 1) % (epochs / 10) == 0:\n",
    "        print(\"epoch: {0} , loss: {1}\".format(i + 1, loss.item()))"
   ]
  },
  {
   "cell_type": "code",
   "execution_count": 8,
   "metadata": {},
   "outputs": [],
   "source": [
    "def testplot(x_test):\n",
    "    X_test = torch.tensor(x_test, dtype=torch.float)\n",
    "    Y_test = model.forward(X_test)\n",
    "    plt.plot(x_test, np.sin(x_test), label=\"Ground Truth\")\n",
    "    plt.plot(x_test, Y_test.detach().numpy(), label=\"Predict\")\n",
    "    plt.xlabel(\"x\")\n",
    "    plt.ylabel(\"sin(x)\")\n",
    "    plt.legend()\n",
    "    # plt.savefig(fname=\"save.png\", figsize=[10,10])\n",
    "    plt.show()"
   ]
  },
  {
   "cell_type": "code",
   "execution_count": 9,
   "metadata": {},
   "outputs": [
    {
     "data": {
      "image/png": "[encoded data removed]",
      "text/plain": [
       "<Figure size 432x288 with 1 Axes>"
      ]
     },
     "metadata": {
      "needs_background": "light"
     },
     "output_type": "display_data"
    }
   ],
   "source": [
    "x_test = np.linspace(- 4 * np.pi, 4 * np.pi, 1600)\n",
    "X_test = np.expand_dims(x_test, axis=1)\n",
    "testplot(X_test)"
   ]
  },
  {
   "cell_type": "code",
   "execution_count": null,
   "metadata": {},
   "outputs": [],
   "source": []
  }
 ],
 "metadata": {
  "kernelspec": {
   "display_name": "Python 3",
   "language": "python",
   "name": "python3"
  },
  "language_info": {
   "codemirror_mode": {
    "name": "ipython",
    "version": 3
   },
   "file_extension": ".py",
   "mimetype": "text/x-python",
   "name": "python",
   "nbconvert_exporter": "python",
   "pygments_lexer": "ipython3",
   "version": "3.7.6"
  }
 },
 "nbformat": 4,
 "nbformat_minor": 4
}
